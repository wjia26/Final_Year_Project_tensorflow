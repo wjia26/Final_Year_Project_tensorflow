{
 "cells": [
  {
   "cell_type": "code",
   "execution_count": 1,
   "metadata": {
    "collapsed": false
   },
   "outputs": [],
   "source": [
    "import math\n",
    "import numpy as np\n",
    "import pandas as pd\n",
    "import os\n",
    "from collections import Counter\n",
    "from random import shuffle\n",
    "from tqdm import tqdm\n",
    "import cv2\n",
    "TRAIN_DIR='G:\\FYPDATA2'\n",
    "IMG_SIZE=80"
   ]
  },
  {
   "cell_type": "code",
   "execution_count": 2,
   "metadata": {
    "collapsed": true
   },
   "outputs": [],
   "source": [
    "##need to filter successful grasps only. \n",
    "def split_to_index(img_label):\n",
    "    #splits grasp_0_0_colour.jpg to just the '0' in int\n",
    "    return int(img_label.split('.')[0].split('_')[1])"
   ]
  },
  {
   "cell_type": "code",
   "execution_count": 3,
   "metadata": {
    "collapsed": false
   },
   "outputs": [],
   "source": [
    "def create_train_data():\n",
    "    training_data = []\n",
    "    label_data=[]\n",
    "    img_data=[]\n",
    "    n=0\n",
    "    for folder in tqdm(os.listdir(TRAIN_DIR)):\n",
    "        folder_increment=2000*n\n",
    "        n=n+1 #each time it's a new folder. Increment by 2000\n",
    "        for file in os.listdir(TRAIN_DIR+'/'+folder):\n",
    "            if file.endswith(\".csv\"):\n",
    "                index=split_to_index(file)+folder_increment\n",
    "                grasp_csv=pd.read_csv(TRAIN_DIR+'/'+folder+'/'+file)\n",
    "                angle=grasp_csv['Angle'][1]\n",
    "                success=grasp_csv['success'][1]\n",
    "                if angle>=-180 and angle<0:\n",
    "                    #180 of the gripper is the same. avoids confusion in CNN.\n",
    "                    angle=angle+180 \n",
    "                label=[0,0,0,0,0,0]\n",
    "                dense_angle=math.floor(angle/30) #from 1-6 (0-180)\n",
    "                label[dense_angle]=1\n",
    "                label_data.append([np.array(label),success,index])\n",
    "\n",
    "            # grab first image of every grasp\n",
    "            if file.endswith(\"0_colour.jpg\"):\n",
    "                index=split_to_index(file)+folder_increment\n",
    "                path = os.path.join(TRAIN_DIR+'/'+folder,file) ##path of the image TRAIN_DIR+img\n",
    "                img = cv2.imread(path,cv2.IMREAD_GRAYSCALE) ##read img in grayscale\n",
    "                img = cv2.resize(img, (IMG_SIZE,IMG_SIZE)) ##resize the img to 50,50\n",
    "                img_data.append([img,index])\n",
    "    return label_data, img_data"
   ]
  },
  {
   "cell_type": "code",
   "execution_count": 4,
   "metadata": {
    "collapsed": false
   },
   "outputs": [
    {
     "name": "stderr",
     "output_type": "stream",
     "text": [
      "100%|██████████████████████████████████████████| 11/11 [01:39<00:00, 10.32s/it]\n"
     ]
    }
   ],
   "source": [
    "[label_data,img_data]=create_train_data()"
   ]
  },
  {
   "cell_type": "code",
   "execution_count": 34,
   "metadata": {
    "collapsed": false
   },
   "outputs": [
    {
     "data": {
      "text/plain": [
       "-1"
      ]
     },
     "execution_count": 34,
     "metadata": {},
     "output_type": "execute_result"
    }
   ],
   "source": [
    "cv2.imshow('iameg',img_data[0][0])\n",
    "cv2.waitKey()"
   ]
  },
  {
   "cell_type": "code",
   "execution_count": 14,
   "metadata": {
    "collapsed": false
   },
   "outputs": [
    {
     "data": {
      "text/html": [
       "<div>\n",
       "<table border=\"1\" class=\"dataframe\">\n",
       "  <thead>\n",
       "    <tr style=\"text-align: right;\">\n",
       "      <th></th>\n",
       "      <th>image</th>\n",
       "      <th>id</th>\n",
       "    </tr>\n",
       "  </thead>\n",
       "  <tbody>\n",
       "    <tr>\n",
       "      <th>0</th>\n",
       "      <td>[[254, 254, 254, 254, 254, 254, 254, 254, 254,...</td>\n",
       "      <td>0</td>\n",
       "    </tr>\n",
       "    <tr>\n",
       "      <th>1</th>\n",
       "      <td>[[254, 254, 254, 254, 254, 254, 254, 254, 254,...</td>\n",
       "      <td>100</td>\n",
       "    </tr>\n",
       "    <tr>\n",
       "      <th>2</th>\n",
       "      <td>[[254, 254, 254, 254, 254, 254, 254, 254, 254,...</td>\n",
       "      <td>101</td>\n",
       "    </tr>\n",
       "    <tr>\n",
       "      <th>3</th>\n",
       "      <td>[[254, 254, 254, 254, 254, 254, 254, 254, 254,...</td>\n",
       "      <td>102</td>\n",
       "    </tr>\n",
       "    <tr>\n",
       "      <th>4</th>\n",
       "      <td>[[254, 254, 254, 254, 254, 254, 254, 254, 254,...</td>\n",
       "      <td>103</td>\n",
       "    </tr>\n",
       "  </tbody>\n",
       "</table>\n",
       "</div>"
      ],
      "text/plain": [
       "                                               image   id\n",
       "0  [[254, 254, 254, 254, 254, 254, 254, 254, 254,...    0\n",
       "1  [[254, 254, 254, 254, 254, 254, 254, 254, 254,...  100\n",
       "2  [[254, 254, 254, 254, 254, 254, 254, 254, 254,...  101\n",
       "3  [[254, 254, 254, 254, 254, 254, 254, 254, 254,...  102\n",
       "4  [[254, 254, 254, 254, 254, 254, 254, 254, 254,...  103"
      ]
     },
     "execution_count": 14,
     "metadata": {},
     "output_type": "execute_result"
    }
   ],
   "source": [
    "img_data_df=pd.DataFrame(img_data,columns=['image','id'])\n",
    "img_data_df.head()\n",
    "#len(label_data_df.id.unique())"
   ]
  },
  {
   "cell_type": "code",
   "execution_count": 15,
   "metadata": {
    "collapsed": false
   },
   "outputs": [
    {
     "data": {
      "text/html": [
       "<div>\n",
       "<table border=\"1\" class=\"dataframe\">\n",
       "  <thead>\n",
       "    <tr style=\"text-align: right;\">\n",
       "      <th></th>\n",
       "      <th>labels</th>\n",
       "      <th>success</th>\n",
       "      <th>id</th>\n",
       "    </tr>\n",
       "  </thead>\n",
       "  <tbody>\n",
       "    <tr>\n",
       "      <th>0</th>\n",
       "      <td>[0, 0, 0, 0, 1, 0]</td>\n",
       "      <td>1</td>\n",
       "      <td>0</td>\n",
       "    </tr>\n",
       "    <tr>\n",
       "      <th>1</th>\n",
       "      <td>[0, 0, 0, 1, 0, 0]</td>\n",
       "      <td>1</td>\n",
       "      <td>1</td>\n",
       "    </tr>\n",
       "    <tr>\n",
       "      <th>2</th>\n",
       "      <td>[0, 0, 0, 1, 0, 0]</td>\n",
       "      <td>1</td>\n",
       "      <td>10</td>\n",
       "    </tr>\n",
       "    <tr>\n",
       "      <th>3</th>\n",
       "      <td>[0, 1, 0, 0, 0, 0]</td>\n",
       "      <td>1</td>\n",
       "      <td>100</td>\n",
       "    </tr>\n",
       "    <tr>\n",
       "      <th>4</th>\n",
       "      <td>[1, 0, 0, 0, 0, 0]</td>\n",
       "      <td>0</td>\n",
       "      <td>101</td>\n",
       "    </tr>\n",
       "  </tbody>\n",
       "</table>\n",
       "</div>"
      ],
      "text/plain": [
       "               labels  success   id\n",
       "0  [0, 0, 0, 0, 1, 0]        1    0\n",
       "1  [0, 0, 0, 1, 0, 0]        1    1\n",
       "2  [0, 0, 0, 1, 0, 0]        1   10\n",
       "3  [0, 1, 0, 0, 0, 0]        1  100\n",
       "4  [1, 0, 0, 0, 0, 0]        0  101"
      ]
     },
     "execution_count": 15,
     "metadata": {},
     "output_type": "execute_result"
    }
   ],
   "source": [
    "label_data_df=pd.DataFrame(label_data,columns=['labels','success','id'])\n",
    "label_data_df.head()\n",
    "#len(label_data_df.id.unique())"
   ]
  },
  {
   "cell_type": "code",
   "execution_count": 23,
   "metadata": {
    "collapsed": false
   },
   "outputs": [
    {
     "data": {
      "text/html": [
       "<div>\n",
       "<table border=\"1\" class=\"dataframe\">\n",
       "  <thead>\n",
       "    <tr style=\"text-align: right;\">\n",
       "      <th></th>\n",
       "      <th>image</th>\n",
       "      <th>id</th>\n",
       "      <th>labels</th>\n",
       "      <th>success</th>\n",
       "    </tr>\n",
       "  </thead>\n",
       "  <tbody>\n",
       "    <tr>\n",
       "      <th>0</th>\n",
       "      <td>[[254, 254, 254, 254, 254, 254, 254, 254, 254,...</td>\n",
       "      <td>0</td>\n",
       "      <td>[0, 0, 0, 0, 1, 0]</td>\n",
       "      <td>1</td>\n",
       "    </tr>\n",
       "    <tr>\n",
       "      <th>1</th>\n",
       "      <td>[[254, 254, 254, 254, 254, 254, 254, 254, 254,...</td>\n",
       "      <td>100</td>\n",
       "      <td>[0, 1, 0, 0, 0, 0]</td>\n",
       "      <td>1</td>\n",
       "    </tr>\n",
       "    <tr>\n",
       "      <th>3</th>\n",
       "      <td>[[254, 254, 254, 254, 254, 254, 254, 254, 254,...</td>\n",
       "      <td>102</td>\n",
       "      <td>[0, 0, 0, 0, 1, 0]</td>\n",
       "      <td>1</td>\n",
       "    </tr>\n",
       "    <tr>\n",
       "      <th>5</th>\n",
       "      <td>[[254, 254, 254, 254, 254, 254, 254, 254, 254,...</td>\n",
       "      <td>104</td>\n",
       "      <td>[0, 0, 0, 1, 0, 0]</td>\n",
       "      <td>1</td>\n",
       "    </tr>\n",
       "    <tr>\n",
       "      <th>6</th>\n",
       "      <td>[[254, 254, 254, 254, 254, 254, 254, 254, 254,...</td>\n",
       "      <td>105</td>\n",
       "      <td>[0, 0, 0, 0, 0, 1]</td>\n",
       "      <td>1</td>\n",
       "    </tr>\n",
       "  </tbody>\n",
       "</table>\n",
       "</div>"
      ],
      "text/plain": [
       "                                               image   id              labels  \\\n",
       "0  [[254, 254, 254, 254, 254, 254, 254, 254, 254,...    0  [0, 0, 0, 0, 1, 0]   \n",
       "1  [[254, 254, 254, 254, 254, 254, 254, 254, 254,...  100  [0, 1, 0, 0, 0, 0]   \n",
       "3  [[254, 254, 254, 254, 254, 254, 254, 254, 254,...  102  [0, 0, 0, 0, 1, 0]   \n",
       "5  [[254, 254, 254, 254, 254, 254, 254, 254, 254,...  104  [0, 0, 0, 1, 0, 0]   \n",
       "6  [[254, 254, 254, 254, 254, 254, 254, 254, 254,...  105  [0, 0, 0, 0, 0, 1]   \n",
       "\n",
       "   success  \n",
       "0        1  \n",
       "1        1  \n",
       "3        1  \n",
       "5        1  \n",
       "6        1  "
      ]
     },
     "execution_count": 23,
     "metadata": {},
     "output_type": "execute_result"
    }
   ],
   "source": [
    "final_data_df=img_data_df.merge(label_data_df,how='inner',on='id')\n",
    "#where the success is 1\n",
    "final_data_df=final_data_df[final_data_df['success']==1]\n",
    "final_data_df.head()\n",
    "#len(final_data_df.id.unique())"
   ]
  },
  {
   "cell_type": "code",
   "execution_count": 24,
   "metadata": {
    "collapsed": false
   },
   "outputs": [],
   "source": [
    "final_data=final_data_df.values\n"
   ]
  },
  {
   "cell_type": "code",
   "execution_count": 25,
   "metadata": {
    "collapsed": false,
    "scrolled": true
   },
   "outputs": [],
   "source": [
    "shuffle(final_data)"
   ]
  },
  {
   "cell_type": "code",
   "execution_count": 26,
   "metadata": {
    "collapsed": false,
    "scrolled": false
   },
   "outputs": [],
   "source": [
    "np.save('training_data_v1.npy', final_data)"
   ]
  },
  {
   "cell_type": "code",
   "execution_count": 14,
   "metadata": {
    "collapsed": false
   },
   "outputs": [
    {
     "data": {
      "text/plain": [
       "[0, 1, 0, 0, 0, 0, 0, 0, 0, 0, 0, 0]"
      ]
     },
     "execution_count": 14,
     "metadata": {},
     "output_type": "execute_result"
    }
   ],
   "source": [
    "# label=[0,0,0,0,0,0,0,0,0,0,0,0]\n",
    "# dense_angle=int(round(-160/30))+6 #from 1-11 (-165 to 165)\n",
    "# label[dense_angle]=1\n",
    "# label"
   ]
  },
  {
   "cell_type": "code",
   "execution_count": 23,
   "metadata": {
    "collapsed": false
   },
   "outputs": [
    {
     "data": {
      "text/plain": [
       "5"
      ]
     },
     "execution_count": 23,
     "metadata": {},
     "output_type": "execute_result"
    }
   ],
   "source": []
  },
  {
   "cell_type": "code",
   "execution_count": null,
   "metadata": {
    "collapsed": true
   },
   "outputs": [],
   "source": []
  }
 ],
 "metadata": {
  "anaconda-cloud": {},
  "kernelspec": {
   "display_name": "Python [conda env:tensorflow-gpu]",
   "language": "python",
   "name": "conda-env-tensorflow-gpu-py"
  },
  "language_info": {
   "codemirror_mode": {
    "name": "ipython",
    "version": 3
   },
   "file_extension": ".py",
   "mimetype": "text/x-python",
   "name": "python",
   "nbconvert_exporter": "python",
   "pygments_lexer": "ipython3",
   "version": "3.5.3"
  }
 },
 "nbformat": 4,
 "nbformat_minor": 1
}
