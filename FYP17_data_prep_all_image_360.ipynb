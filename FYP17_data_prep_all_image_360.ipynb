{
 "cells": [
  {
   "cell_type": "markdown",
   "metadata": {},
   "source": [
    "# Data Prep for FYP17 robotic grasping"
   ]
  },
  {
   "cell_type": "code",
   "execution_count": 1,
   "metadata": {
    "collapsed": false
   },
   "outputs": [],
   "source": [
    "import math\n",
    "import numpy as np\n",
    "import pandas as pd\n",
    "import os\n",
    "from collections import Counter\n",
    "from random import shuffle\n",
    "from tqdm import tqdm\n",
    "import cv2\n",
    "TRAIN_DIR='G:\\FYPDATA5'\n",
    "IMG_SIZE=80"
   ]
  },
  {
   "cell_type": "markdown",
   "metadata": {},
   "source": [
    "## Creating Training Data for Image prediction\n",
    "### 1.\n",
    "In order to create training data, we run through every folder in the directory. and then every file within that folder. There are conditional statements which help identify whether it is looking at an image or a csv file. \n",
    "\n",
    "There is an index which increments every time a folder changes. This is to differentiate the same image name between folders. There is an increment of 2000 everytime this happens\n",
    "\n",
    "### 2. \n",
    "Within every csv file. The angle, success and index are recorded. The angle is then converted into a one-hot encoded label format. Furthemore, the raw angle input is from -180 to 180. We have shifted this to 0 to 360 for ease of analysis. \n",
    "### 3. \n",
    "Within every image file. The m by m image matrix and the index is recorded."
   ]
  },
  {
   "cell_type": "code",
   "execution_count": 2,
   "metadata": {
    "collapsed": true
   },
   "outputs": [],
   "source": [
    "##need to filter successful grasps only. \n",
    "def split_to_index(img_label):\n",
    "    #splits grasp_0_0_colour.jpg to just the '0' in int\n",
    "    return int(img_label.split('.')[0].split('_')[1])"
   ]
  },
  {
   "cell_type": "code",
   "execution_count": 3,
   "metadata": {
    "collapsed": false
   },
   "outputs": [],
   "source": [
    "def create_train_data():\n",
    "    training_data = []\n",
    "    label_data=[]\n",
    "    img_data=[]\n",
    "    n=0\n",
    "    for folder in tqdm(os.listdir(TRAIN_DIR)):\n",
    "        folder_increment=2000*n\n",
    "        n=n+1 #each time it's a new folder. Increment by 2000\n",
    "        for file in os.listdir(TRAIN_DIR+'/'+folder):\n",
    "            if file.endswith(\".csv\"):\n",
    "                index=split_to_index(file)+folder_increment\n",
    "                grasp_csv=pd.read_csv(TRAIN_DIR+'/'+folder+'/'+file)\n",
    "                angle=grasp_csv['Angle'][1]+180\n",
    "                angle=int(round(angle/30)*30)\n",
    "                success=grasp_csv['success'][1]\n",
    "                if success==1:\n",
    "                    success=[0,1]\n",
    "                else:\n",
    "                    success=[1,0]\n",
    "                item=grasp_csv['item'][1]\n",
    "                label_data.append([angle,success,item,index])\n",
    "\n",
    "            # grab first image of every grasp\n",
    "            if file.endswith(\"0_colour.jpg\"):\n",
    "                index=split_to_index(file)+folder_increment\n",
    "                path = os.path.join(TRAIN_DIR+'/'+folder,file) ##path of the image TRAIN_DIR+img\n",
    "            \n",
    "                img = cv2.imread(path,cv2.IMREAD_GRAYSCALE) ##read img in grayscale\n",
    "                #only append valid images.\n",
    "                if img!=None:   \n",
    "                    img = cv2.resize(img, (IMG_SIZE,IMG_SIZE)) ##resize the img to 80,80\n",
    "                    img_data.append([img,index])\n",
    "    return label_data, img_data"
   ]
  },
  {
   "cell_type": "code",
   "execution_count": 4,
   "metadata": {
    "collapsed": false
   },
   "outputs": [
    {
     "name": "stderr",
     "output_type": "stream",
     "text": [
      "  0%|                                                                                                                               | 0/34 [00:00<?, ?it/s]C:\\Program Files\\Anaconda3\\envs\\tensorflow-gpu\\lib\\site-packages\\ipykernel\\__main__.py:30: FutureWarning: comparison to `None` will result in an elementwise object comparison in the future.\n",
      "100%|██████████████████████████████████████████████████████████████████████████████████████████████████████████████████████| 34/34 [04:00<00:00,  3.58s/it]\n"
     ]
    }
   ],
   "source": [
    "[label_data,img_data]=create_train_data()"
   ]
  },
  {
   "cell_type": "markdown",
   "metadata": {},
   "source": [
    "## Merge label_data and img_data\n",
    "\n",
    "### 1. \n",
    "label_data and img_data are stored in a pd.Dataframe with labelled columns.\n",
    "### 2.  \n",
    "The DataFrames are then merged via the id column. \n",
    "### 3. \n",
    "All grasp data is selected. There is no filtering of whether it's success/failure, as this is only to train the image recognition model, which is seperate from determining angle. This is to ensure that the model trains on only sucess stories. It ain't 'picking' any bad habits.\n",
    "### 4. \n",
    "Finally the dataframe is converted to a np.array via the .values method.\n",
    "### 5.\n",
    "It is then shuffled and saved to a .npy format."
   ]
  },
  {
   "cell_type": "code",
   "execution_count": 5,
   "metadata": {
    "collapsed": false
   },
   "outputs": [
    {
     "data": {
      "text/plain": [
       "-1"
      ]
     },
     "execution_count": 5,
     "metadata": {},
     "output_type": "execute_result"
    }
   ],
   "source": [
    "cv2.imshow('iameg',img_data[0][0])\n",
    "cv2.waitKey()"
   ]
  },
  {
   "cell_type": "code",
   "execution_count": 6,
   "metadata": {
    "collapsed": false
   },
   "outputs": [
    {
     "data": {
      "text/html": [
       "<div>\n",
       "<table border=\"1\" class=\"dataframe\">\n",
       "  <thead>\n",
       "    <tr style=\"text-align: right;\">\n",
       "      <th></th>\n",
       "      <th>image</th>\n",
       "      <th>id</th>\n",
       "    </tr>\n",
       "  </thead>\n",
       "  <tbody>\n",
       "    <tr>\n",
       "      <th>0</th>\n",
       "      <td>[[254, 254, 254, 254, 254, 254, 254, 254, 254,...</td>\n",
       "      <td>0</td>\n",
       "    </tr>\n",
       "    <tr>\n",
       "      <th>1</th>\n",
       "      <td>[[254, 254, 254, 254, 254, 254, 254, 254, 254,...</td>\n",
       "      <td>100</td>\n",
       "    </tr>\n",
       "    <tr>\n",
       "      <th>2</th>\n",
       "      <td>[[254, 254, 254, 254, 254, 254, 254, 254, 254,...</td>\n",
       "      <td>101</td>\n",
       "    </tr>\n",
       "    <tr>\n",
       "      <th>3</th>\n",
       "      <td>[[254, 254, 254, 254, 254, 254, 254, 254, 254,...</td>\n",
       "      <td>102</td>\n",
       "    </tr>\n",
       "    <tr>\n",
       "      <th>4</th>\n",
       "      <td>[[254, 254, 254, 254, 254, 254, 254, 254, 254,...</td>\n",
       "      <td>103</td>\n",
       "    </tr>\n",
       "  </tbody>\n",
       "</table>\n",
       "</div>"
      ],
      "text/plain": [
       "                                               image   id\n",
       "0  [[254, 254, 254, 254, 254, 254, 254, 254, 254,...    0\n",
       "1  [[254, 254, 254, 254, 254, 254, 254, 254, 254,...  100\n",
       "2  [[254, 254, 254, 254, 254, 254, 254, 254, 254,...  101\n",
       "3  [[254, 254, 254, 254, 254, 254, 254, 254, 254,...  102\n",
       "4  [[254, 254, 254, 254, 254, 254, 254, 254, 254,...  103"
      ]
     },
     "execution_count": 6,
     "metadata": {},
     "output_type": "execute_result"
    }
   ],
   "source": [
    "img_data_df=pd.DataFrame(img_data,columns=['image','id'])\n",
    "img_data_df.head()\n",
    "#len(label_data_df.id.unique())"
   ]
  },
  {
   "cell_type": "code",
   "execution_count": 7,
   "metadata": {
    "collapsed": false
   },
   "outputs": [
    {
     "data": {
      "text/html": [
       "<div>\n",
       "<table border=\"1\" class=\"dataframe\">\n",
       "  <thead>\n",
       "    <tr style=\"text-align: right;\">\n",
       "      <th></th>\n",
       "      <th>angle</th>\n",
       "      <th>success</th>\n",
       "      <th>item</th>\n",
       "      <th>id</th>\n",
       "    </tr>\n",
       "  </thead>\n",
       "  <tbody>\n",
       "    <tr>\n",
       "      <th>0</th>\n",
       "      <td>60</td>\n",
       "      <td>[1, 0]</td>\n",
       "      <td>ice_tray_2</td>\n",
       "      <td>0</td>\n",
       "    </tr>\n",
       "    <tr>\n",
       "      <th>1</th>\n",
       "      <td>240</td>\n",
       "      <td>[1, 0]</td>\n",
       "      <td>ice_tray_2</td>\n",
       "      <td>1</td>\n",
       "    </tr>\n",
       "    <tr>\n",
       "      <th>2</th>\n",
       "      <td>150</td>\n",
       "      <td>[1, 0]</td>\n",
       "      <td>ice_tray_2</td>\n",
       "      <td>10</td>\n",
       "    </tr>\n",
       "    <tr>\n",
       "      <th>3</th>\n",
       "      <td>150</td>\n",
       "      <td>[0, 1]</td>\n",
       "      <td>ice_tray_2</td>\n",
       "      <td>100</td>\n",
       "    </tr>\n",
       "    <tr>\n",
       "      <th>4</th>\n",
       "      <td>210</td>\n",
       "      <td>[1, 0]</td>\n",
       "      <td>ice_tray_2</td>\n",
       "      <td>101</td>\n",
       "    </tr>\n",
       "  </tbody>\n",
       "</table>\n",
       "</div>"
      ],
      "text/plain": [
       "   angle success        item   id\n",
       "0     60  [1, 0]  ice_tray_2    0\n",
       "1    240  [1, 0]  ice_tray_2    1\n",
       "2    150  [1, 0]  ice_tray_2   10\n",
       "3    150  [0, 1]  ice_tray_2  100\n",
       "4    210  [1, 0]  ice_tray_2  101"
      ]
     },
     "execution_count": 7,
     "metadata": {},
     "output_type": "execute_result"
    }
   ],
   "source": [
    "label_data_df=pd.DataFrame(label_data,columns=['angle','success','item','id'])\n",
    "label_data_df.head()\n",
    "#len(label_data_df.id.unique())"
   ]
  },
  {
   "cell_type": "code",
   "execution_count": 8,
   "metadata": {
    "collapsed": false
   },
   "outputs": [
    {
     "data": {
      "text/html": [
       "<div>\n",
       "<table border=\"1\" class=\"dataframe\">\n",
       "  <thead>\n",
       "    <tr style=\"text-align: right;\">\n",
       "      <th></th>\n",
       "      <th>image</th>\n",
       "      <th>id</th>\n",
       "      <th>angle</th>\n",
       "      <th>success</th>\n",
       "      <th>item</th>\n",
       "    </tr>\n",
       "  </thead>\n",
       "  <tbody>\n",
       "    <tr>\n",
       "      <th>0</th>\n",
       "      <td>[[254, 254, 254, 254, 254, 254, 254, 254, 254,...</td>\n",
       "      <td>0</td>\n",
       "      <td>60</td>\n",
       "      <td>[1, 0]</td>\n",
       "      <td>ice_tray_2</td>\n",
       "    </tr>\n",
       "    <tr>\n",
       "      <th>1</th>\n",
       "      <td>[[254, 254, 254, 254, 254, 254, 254, 254, 254,...</td>\n",
       "      <td>100</td>\n",
       "      <td>150</td>\n",
       "      <td>[0, 1]</td>\n",
       "      <td>ice_tray_2</td>\n",
       "    </tr>\n",
       "    <tr>\n",
       "      <th>2</th>\n",
       "      <td>[[254, 254, 254, 254, 254, 254, 254, 254, 254,...</td>\n",
       "      <td>101</td>\n",
       "      <td>210</td>\n",
       "      <td>[1, 0]</td>\n",
       "      <td>ice_tray_2</td>\n",
       "    </tr>\n",
       "    <tr>\n",
       "      <th>3</th>\n",
       "      <td>[[254, 254, 254, 254, 254, 254, 254, 254, 254,...</td>\n",
       "      <td>102</td>\n",
       "      <td>270</td>\n",
       "      <td>[0, 1]</td>\n",
       "      <td>ice_tray_2</td>\n",
       "    </tr>\n",
       "    <tr>\n",
       "      <th>4</th>\n",
       "      <td>[[254, 254, 254, 254, 254, 254, 254, 254, 254,...</td>\n",
       "      <td>103</td>\n",
       "      <td>270</td>\n",
       "      <td>[1, 0]</td>\n",
       "      <td>ice_tray_2</td>\n",
       "    </tr>\n",
       "  </tbody>\n",
       "</table>\n",
       "</div>"
      ],
      "text/plain": [
       "                                               image   id  angle success  \\\n",
       "0  [[254, 254, 254, 254, 254, 254, 254, 254, 254,...    0     60  [1, 0]   \n",
       "1  [[254, 254, 254, 254, 254, 254, 254, 254, 254,...  100    150  [0, 1]   \n",
       "2  [[254, 254, 254, 254, 254, 254, 254, 254, 254,...  101    210  [1, 0]   \n",
       "3  [[254, 254, 254, 254, 254, 254, 254, 254, 254,...  102    270  [0, 1]   \n",
       "4  [[254, 254, 254, 254, 254, 254, 254, 254, 254,...  103    270  [1, 0]   \n",
       "\n",
       "         item  \n",
       "0  ice_tray_2  \n",
       "1  ice_tray_2  \n",
       "2  ice_tray_2  \n",
       "3  ice_tray_2  \n",
       "4  ice_tray_2  "
      ]
     },
     "execution_count": 8,
     "metadata": {},
     "output_type": "execute_result"
    }
   ],
   "source": [
    "final_data_df=img_data_df.merge(label_data_df,how='inner',on='id')\n",
    "final_data_df.head()\n"
   ]
  },
  {
   "cell_type": "code",
   "execution_count": 9,
   "metadata": {
    "collapsed": false
   },
   "outputs": [
    {
     "data": {
      "text/html": [
       "<div>\n",
       "<table border=\"1\" class=\"dataframe\">\n",
       "  <thead>\n",
       "    <tr style=\"text-align: right;\">\n",
       "      <th></th>\n",
       "      <th>item</th>\n",
       "      <th>item_onehot</th>\n",
       "    </tr>\n",
       "  </thead>\n",
       "  <tbody>\n",
       "    <tr>\n",
       "      <th>0</th>\n",
       "      <td>ice_tray_2</td>\n",
       "      <td>[1, 0, 0, 0, 0, 0, 0, 0, 0, 0, 0]</td>\n",
       "    </tr>\n",
       "    <tr>\n",
       "      <th>1</th>\n",
       "      <td>action_figurine</td>\n",
       "      <td>[0, 1, 0, 0, 0, 0, 0, 0, 0, 0, 0]</td>\n",
       "    </tr>\n",
       "    <tr>\n",
       "      <th>2</th>\n",
       "      <td>egg_tray</td>\n",
       "      <td>[0, 0, 1, 0, 0, 0, 0, 0, 0, 0, 0]</td>\n",
       "    </tr>\n",
       "    <tr>\n",
       "      <th>3</th>\n",
       "      <td>water_bottle</td>\n",
       "      <td>[0, 0, 0, 1, 0, 0, 0, 0, 0, 0, 0]</td>\n",
       "    </tr>\n",
       "    <tr>\n",
       "      <th>4</th>\n",
       "      <td>calculator</td>\n",
       "      <td>[0, 0, 0, 0, 1, 0, 0, 0, 0, 0, 0]</td>\n",
       "    </tr>\n",
       "    <tr>\n",
       "      <th>5</th>\n",
       "      <td>nothing</td>\n",
       "      <td>[0, 0, 0, 0, 0, 1, 0, 0, 0, 0, 0]</td>\n",
       "    </tr>\n",
       "    <tr>\n",
       "      <th>6</th>\n",
       "      <td>hairbrush</td>\n",
       "      <td>[0, 0, 0, 0, 0, 0, 1, 0, 0, 0, 0]</td>\n",
       "    </tr>\n",
       "    <tr>\n",
       "      <th>7</th>\n",
       "      <td>black_box</td>\n",
       "      <td>[0, 0, 0, 0, 0, 0, 0, 1, 0, 0, 0]</td>\n",
       "    </tr>\n",
       "    <tr>\n",
       "      <th>8</th>\n",
       "      <td>scissors</td>\n",
       "      <td>[0, 0, 0, 0, 0, 0, 0, 0, 1, 0, 0]</td>\n",
       "    </tr>\n",
       "    <tr>\n",
       "      <th>9</th>\n",
       "      <td>tennis_tube</td>\n",
       "      <td>[0, 0, 0, 0, 0, 0, 0, 0, 0, 1, 0]</td>\n",
       "    </tr>\n",
       "    <tr>\n",
       "      <th>10</th>\n",
       "      <td>ice_tray_1</td>\n",
       "      <td>[0, 0, 0, 0, 0, 0, 0, 0, 0, 0, 1]</td>\n",
       "    </tr>\n",
       "  </tbody>\n",
       "</table>\n",
       "</div>"
      ],
      "text/plain": [
       "               item                        item_onehot\n",
       "0        ice_tray_2  [1, 0, 0, 0, 0, 0, 0, 0, 0, 0, 0]\n",
       "1   action_figurine  [0, 1, 0, 0, 0, 0, 0, 0, 0, 0, 0]\n",
       "2          egg_tray  [0, 0, 1, 0, 0, 0, 0, 0, 0, 0, 0]\n",
       "3      water_bottle  [0, 0, 0, 1, 0, 0, 0, 0, 0, 0, 0]\n",
       "4        calculator  [0, 0, 0, 0, 1, 0, 0, 0, 0, 0, 0]\n",
       "5           nothing  [0, 0, 0, 0, 0, 1, 0, 0, 0, 0, 0]\n",
       "6         hairbrush  [0, 0, 0, 0, 0, 0, 1, 0, 0, 0, 0]\n",
       "7         black_box  [0, 0, 0, 0, 0, 0, 0, 1, 0, 0, 0]\n",
       "8          scissors  [0, 0, 0, 0, 0, 0, 0, 0, 1, 0, 0]\n",
       "9       tennis_tube  [0, 0, 0, 0, 0, 0, 0, 0, 0, 1, 0]\n",
       "10       ice_tray_1  [0, 0, 0, 0, 0, 0, 0, 0, 0, 0, 1]"
      ]
     },
     "execution_count": 9,
     "metadata": {},
     "output_type": "execute_result"
    }
   ],
   "source": [
    "bum=[]\n",
    "count_unique=len(final_data_df['item'].unique())\n",
    "n=0\n",
    "for item in final_data_df['item'].unique():\n",
    "    item_onehot=np.zeros(count_unique,dtype=int)\n",
    "    item_onehot[n]=1\n",
    "    bum.append([item,item_onehot])\n",
    "    n=n+1\n",
    "bum_df=pd.DataFrame(bum,columns=['item','item_onehot'])\n",
    "bum_df"
   ]
  },
  {
   "cell_type": "code",
   "execution_count": 10,
   "metadata": {
    "collapsed": false
   },
   "outputs": [
    {
     "data": {
      "text/html": [
       "<div>\n",
       "<table border=\"1\" class=\"dataframe\">\n",
       "  <thead>\n",
       "    <tr style=\"text-align: right;\">\n",
       "      <th></th>\n",
       "      <th>image</th>\n",
       "      <th>id</th>\n",
       "      <th>angle</th>\n",
       "      <th>success</th>\n",
       "      <th>item</th>\n",
       "      <th>item_onehot</th>\n",
       "    </tr>\n",
       "  </thead>\n",
       "  <tbody>\n",
       "    <tr>\n",
       "      <th>0</th>\n",
       "      <td>[[254, 254, 254, 254, 254, 254, 254, 254, 254,...</td>\n",
       "      <td>0</td>\n",
       "      <td>60</td>\n",
       "      <td>[1, 0]</td>\n",
       "      <td>ice_tray_2</td>\n",
       "      <td>[1, 0, 0, 0, 0, 0, 0, 0, 0, 0, 0]</td>\n",
       "    </tr>\n",
       "    <tr>\n",
       "      <th>1</th>\n",
       "      <td>[[254, 254, 254, 254, 254, 254, 254, 254, 254,...</td>\n",
       "      <td>100</td>\n",
       "      <td>150</td>\n",
       "      <td>[0, 1]</td>\n",
       "      <td>ice_tray_2</td>\n",
       "      <td>[1, 0, 0, 0, 0, 0, 0, 0, 0, 0, 0]</td>\n",
       "    </tr>\n",
       "    <tr>\n",
       "      <th>2</th>\n",
       "      <td>[[254, 254, 254, 254, 254, 254, 254, 254, 254,...</td>\n",
       "      <td>101</td>\n",
       "      <td>210</td>\n",
       "      <td>[1, 0]</td>\n",
       "      <td>ice_tray_2</td>\n",
       "      <td>[1, 0, 0, 0, 0, 0, 0, 0, 0, 0, 0]</td>\n",
       "    </tr>\n",
       "    <tr>\n",
       "      <th>3</th>\n",
       "      <td>[[254, 254, 254, 254, 254, 254, 254, 254, 254,...</td>\n",
       "      <td>102</td>\n",
       "      <td>270</td>\n",
       "      <td>[0, 1]</td>\n",
       "      <td>ice_tray_2</td>\n",
       "      <td>[1, 0, 0, 0, 0, 0, 0, 0, 0, 0, 0]</td>\n",
       "    </tr>\n",
       "    <tr>\n",
       "      <th>4</th>\n",
       "      <td>[[254, 254, 254, 254, 254, 254, 254, 254, 254,...</td>\n",
       "      <td>103</td>\n",
       "      <td>270</td>\n",
       "      <td>[1, 0]</td>\n",
       "      <td>ice_tray_2</td>\n",
       "      <td>[1, 0, 0, 0, 0, 0, 0, 0, 0, 0, 0]</td>\n",
       "    </tr>\n",
       "  </tbody>\n",
       "</table>\n",
       "</div>"
      ],
      "text/plain": [
       "                                               image   id  angle success  \\\n",
       "0  [[254, 254, 254, 254, 254, 254, 254, 254, 254,...    0     60  [1, 0]   \n",
       "1  [[254, 254, 254, 254, 254, 254, 254, 254, 254,...  100    150  [0, 1]   \n",
       "2  [[254, 254, 254, 254, 254, 254, 254, 254, 254,...  101    210  [1, 0]   \n",
       "3  [[254, 254, 254, 254, 254, 254, 254, 254, 254,...  102    270  [0, 1]   \n",
       "4  [[254, 254, 254, 254, 254, 254, 254, 254, 254,...  103    270  [1, 0]   \n",
       "\n",
       "         item                        item_onehot  \n",
       "0  ice_tray_2  [1, 0, 0, 0, 0, 0, 0, 0, 0, 0, 0]  \n",
       "1  ice_tray_2  [1, 0, 0, 0, 0, 0, 0, 0, 0, 0, 0]  \n",
       "2  ice_tray_2  [1, 0, 0, 0, 0, 0, 0, 0, 0, 0, 0]  \n",
       "3  ice_tray_2  [1, 0, 0, 0, 0, 0, 0, 0, 0, 0, 0]  \n",
       "4  ice_tray_2  [1, 0, 0, 0, 0, 0, 0, 0, 0, 0, 0]  "
      ]
     },
     "execution_count": 10,
     "metadata": {},
     "output_type": "execute_result"
    }
   ],
   "source": [
    "final_data_df=final_data_df.merge(bum_df,how='outer',on='item')\n",
    "final_data_df.head()"
   ]
  },
  {
   "cell_type": "code",
   "execution_count": 11,
   "metadata": {
    "collapsed": true
   },
   "outputs": [],
   "source": [
    "final_data=final_data_df.values\n",
    "shuffle(final_data)\n",
    "np.save('training_data_all_360.npy', final_data)"
   ]
  },
  {
   "cell_type": "code",
   "execution_count": 5,
   "metadata": {
    "collapsed": false
   },
   "outputs": [
    {
     "data": {
      "text/plain": [
       "330"
      ]
     },
     "execution_count": 5,
     "metadata": {},
     "output_type": "execute_result"
    }
   ],
   "source": [
    "int(round(344/30)*30)"
   ]
  },
  {
   "cell_type": "code",
   "execution_count": null,
   "metadata": {
    "collapsed": true
   },
   "outputs": [],
   "source": []
  }
 ],
 "metadata": {
  "anaconda-cloud": {},
  "kernelspec": {
   "display_name": "Python [conda env:tensorflow-gpu]",
   "language": "python",
   "name": "conda-env-tensorflow-gpu-py"
  },
  "language_info": {
   "codemirror_mode": {
    "name": "ipython",
    "version": 3
   },
   "file_extension": ".py",
   "mimetype": "text/x-python",
   "name": "python",
   "nbconvert_exporter": "python",
   "pygments_lexer": "ipython3",
   "version": "3.5.3"
  }
 },
 "nbformat": 4,
 "nbformat_minor": 1
}
